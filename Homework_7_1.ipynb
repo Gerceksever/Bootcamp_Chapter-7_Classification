{
 "cells": [
  {
   "cell_type": "markdown",
   "metadata": {},
   "source": [
    "Aşağıdaki örneklerin sınıflandırma problemi mi yoksa regresyon problemi mi olduğunu belirleyiniz:\n",
    "\n",
    "1.Evin büyüklüğü veri alındığında, evin fiyatını tahmin etmek\n",
    "2.Eve bakmaya gelenlerin kıyafetlerinden, kimin evi satın alma ihtimalinin yüksek veya düşük olduğu sonucuna varmak\n",
    "3.Lokasyon ve tarih gibi parametreleri kullanarak, yağmur yağma ihtimalini hesaplamak\n",
    "4.Eğitim, tecrübe gibi parametreleri kullanarak, kişinin maaşını tahmin etmek\n",
    "5.Bir insanın yaşının tahmin edilmesi\n",
    "6.Bir insanın gelirinin tahmin edilmesi\n",
    "7.Herhangi bir hisse senedinin fiyatının yönünün tahmin edilmesi"
   ]
  },
  {
   "cell_type": "code",
   "execution_count": null,
   "metadata": {},
   "outputs": [],
   "source": [
    "1-regresyon\n",
    "2-sınıflandırma\n",
    "3-sınıflandırma\n",
    "4-regresyon\n",
    "5-sınıflandırma\n",
    "6-regresyon\n",
    "7-sınıflandırma"
   ]
  }
 ],
 "metadata": {
  "kernelspec": {
   "display_name": "Python 3",
   "language": "python",
   "name": "python3"
  },
  "language_info": {
   "codemirror_mode": {
    "name": "ipython",
    "version": 3
   },
   "file_extension": ".py",
   "mimetype": "text/x-python",
   "name": "python",
   "nbconvert_exporter": "python",
   "pygments_lexer": "ipython3",
   "version": "3.7.0"
  }
 },
 "nbformat": 4,
 "nbformat_minor": 2
}
